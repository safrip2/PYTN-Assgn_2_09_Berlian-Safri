{
 "cells": [
  {
   "attachments": {},
   "cell_type": "markdown",
   "metadata": {},
   "source": [
    "# Assignment 2: Statistical Treatment for Retail Datasets"
   ]
  },
  {
   "attachments": {},
   "cell_type": "markdown",
   "metadata": {},
   "source": [
    "#### import library"
   ]
  },
  {
   "cell_type": "code",
   "execution_count": 1,
   "metadata": {},
   "outputs": [],
   "source": [
    "import pandas as pd\n",
    "import numpy as np\n",
    "import matplotlib.pyplot as plt\n",
    "import seaborn as sns\n",
    "import scipy.stats as stats\n",
    "import math\n",
    "import statistics\n",
    "import scipy.stats\n",
    "%matplotlib inline\n",
    "from IPython.display import Math, Latex\n",
    "from IPython.core.display import Image\n",
    "from scipy.stats import uniform"
   ]
  },
  {
   "cell_type": "code",
   "execution_count": 2,
   "metadata": {},
   "outputs": [],
   "source": [
    "sns.set(color_codes=True)\n",
    "sns.set(rc={'figure.figsize':(5,5)})"
   ]
  },
  {
   "attachments": {},
   "cell_type": "markdown",
   "metadata": {},
   "source": [
    "#### import dataset and atribute description"
   ]
  },
  {
   "cell_type": "code",
   "execution_count": 3,
   "metadata": {},
   "outputs": [],
   "source": [
    "file = 'nyc-rolling-sales.csv'\n",
    "df_data = pd.read_csv(file, na_values={'n/a', 'na', '-'})"
   ]
  },
  {
   "cell_type": "code",
   "execution_count": 4,
   "metadata": {},
   "outputs": [
    {
     "data": {
      "text/html": [
       "<div>\n",
       "<style scoped>\n",
       "    .dataframe tbody tr th:only-of-type {\n",
       "        vertical-align: middle;\n",
       "    }\n",
       "\n",
       "    .dataframe tbody tr th {\n",
       "        vertical-align: top;\n",
       "    }\n",
       "\n",
       "    .dataframe thead th {\n",
       "        text-align: right;\n",
       "    }\n",
       "</style>\n",
       "<table border=\"1\" class=\"dataframe\">\n",
       "  <thead>\n",
       "    <tr style=\"text-align: right;\">\n",
       "      <th></th>\n",
       "      <th>Unnamed: 0</th>\n",
       "      <th>BOROUGH</th>\n",
       "      <th>NEIGHBORHOOD</th>\n",
       "      <th>BUILDING CLASS CATEGORY</th>\n",
       "      <th>TAX CLASS AT PRESENT</th>\n",
       "      <th>BLOCK</th>\n",
       "      <th>LOT</th>\n",
       "      <th>EASE-MENT</th>\n",
       "      <th>BUILDING CLASS AT PRESENT</th>\n",
       "      <th>ADDRESS</th>\n",
       "      <th>...</th>\n",
       "      <th>RESIDENTIAL UNITS</th>\n",
       "      <th>COMMERCIAL UNITS</th>\n",
       "      <th>TOTAL UNITS</th>\n",
       "      <th>LAND SQUARE FEET</th>\n",
       "      <th>GROSS SQUARE FEET</th>\n",
       "      <th>YEAR BUILT</th>\n",
       "      <th>TAX CLASS AT TIME OF SALE</th>\n",
       "      <th>BUILDING CLASS AT TIME OF SALE</th>\n",
       "      <th>SALE PRICE</th>\n",
       "      <th>SALE DATE</th>\n",
       "    </tr>\n",
       "  </thead>\n",
       "  <tbody>\n",
       "    <tr>\n",
       "      <th>0</th>\n",
       "      <td>4</td>\n",
       "      <td>1</td>\n",
       "      <td>ALPHABET CITY</td>\n",
       "      <td>07 RENTALS - WALKUP APARTMENTS</td>\n",
       "      <td>2A</td>\n",
       "      <td>392</td>\n",
       "      <td>6</td>\n",
       "      <td></td>\n",
       "      <td>C2</td>\n",
       "      <td>153 AVENUE B</td>\n",
       "      <td>...</td>\n",
       "      <td>5</td>\n",
       "      <td>0</td>\n",
       "      <td>5</td>\n",
       "      <td>1633</td>\n",
       "      <td>6440</td>\n",
       "      <td>1900</td>\n",
       "      <td>2</td>\n",
       "      <td>C2</td>\n",
       "      <td>6625000</td>\n",
       "      <td>2017-07-19 00:00:00</td>\n",
       "    </tr>\n",
       "    <tr>\n",
       "      <th>1</th>\n",
       "      <td>5</td>\n",
       "      <td>1</td>\n",
       "      <td>ALPHABET CITY</td>\n",
       "      <td>07 RENTALS - WALKUP APARTMENTS</td>\n",
       "      <td>2</td>\n",
       "      <td>399</td>\n",
       "      <td>26</td>\n",
       "      <td></td>\n",
       "      <td>C7</td>\n",
       "      <td>234 EAST 4TH   STREET</td>\n",
       "      <td>...</td>\n",
       "      <td>28</td>\n",
       "      <td>3</td>\n",
       "      <td>31</td>\n",
       "      <td>4616</td>\n",
       "      <td>18690</td>\n",
       "      <td>1900</td>\n",
       "      <td>2</td>\n",
       "      <td>C7</td>\n",
       "      <td>-</td>\n",
       "      <td>2016-12-14 00:00:00</td>\n",
       "    </tr>\n",
       "    <tr>\n",
       "      <th>2</th>\n",
       "      <td>6</td>\n",
       "      <td>1</td>\n",
       "      <td>ALPHABET CITY</td>\n",
       "      <td>07 RENTALS - WALKUP APARTMENTS</td>\n",
       "      <td>2</td>\n",
       "      <td>399</td>\n",
       "      <td>39</td>\n",
       "      <td></td>\n",
       "      <td>C7</td>\n",
       "      <td>197 EAST 3RD   STREET</td>\n",
       "      <td>...</td>\n",
       "      <td>16</td>\n",
       "      <td>1</td>\n",
       "      <td>17</td>\n",
       "      <td>2212</td>\n",
       "      <td>7803</td>\n",
       "      <td>1900</td>\n",
       "      <td>2</td>\n",
       "      <td>C7</td>\n",
       "      <td>-</td>\n",
       "      <td>2016-12-09 00:00:00</td>\n",
       "    </tr>\n",
       "    <tr>\n",
       "      <th>3</th>\n",
       "      <td>7</td>\n",
       "      <td>1</td>\n",
       "      <td>ALPHABET CITY</td>\n",
       "      <td>07 RENTALS - WALKUP APARTMENTS</td>\n",
       "      <td>2B</td>\n",
       "      <td>402</td>\n",
       "      <td>21</td>\n",
       "      <td></td>\n",
       "      <td>C4</td>\n",
       "      <td>154 EAST 7TH STREET</td>\n",
       "      <td>...</td>\n",
       "      <td>10</td>\n",
       "      <td>0</td>\n",
       "      <td>10</td>\n",
       "      <td>2272</td>\n",
       "      <td>6794</td>\n",
       "      <td>1913</td>\n",
       "      <td>2</td>\n",
       "      <td>C4</td>\n",
       "      <td>3936272</td>\n",
       "      <td>2016-09-23 00:00:00</td>\n",
       "    </tr>\n",
       "    <tr>\n",
       "      <th>4</th>\n",
       "      <td>8</td>\n",
       "      <td>1</td>\n",
       "      <td>ALPHABET CITY</td>\n",
       "      <td>07 RENTALS - WALKUP APARTMENTS</td>\n",
       "      <td>2A</td>\n",
       "      <td>404</td>\n",
       "      <td>55</td>\n",
       "      <td></td>\n",
       "      <td>C2</td>\n",
       "      <td>301 EAST 10TH   STREET</td>\n",
       "      <td>...</td>\n",
       "      <td>6</td>\n",
       "      <td>0</td>\n",
       "      <td>6</td>\n",
       "      <td>2369</td>\n",
       "      <td>4615</td>\n",
       "      <td>1900</td>\n",
       "      <td>2</td>\n",
       "      <td>C2</td>\n",
       "      <td>8000000</td>\n",
       "      <td>2016-11-17 00:00:00</td>\n",
       "    </tr>\n",
       "  </tbody>\n",
       "</table>\n",
       "<p>5 rows × 22 columns</p>\n",
       "</div>"
      ],
      "text/plain": [
       "   Unnamed: 0  BOROUGH   NEIGHBORHOOD  \\\n",
       "0           4        1  ALPHABET CITY   \n",
       "1           5        1  ALPHABET CITY   \n",
       "2           6        1  ALPHABET CITY   \n",
       "3           7        1  ALPHABET CITY   \n",
       "4           8        1  ALPHABET CITY   \n",
       "\n",
       "                       BUILDING CLASS CATEGORY TAX CLASS AT PRESENT  BLOCK  \\\n",
       "0  07 RENTALS - WALKUP APARTMENTS                                2A    392   \n",
       "1  07 RENTALS - WALKUP APARTMENTS                                 2    399   \n",
       "2  07 RENTALS - WALKUP APARTMENTS                                 2    399   \n",
       "3  07 RENTALS - WALKUP APARTMENTS                                2B    402   \n",
       "4  07 RENTALS - WALKUP APARTMENTS                                2A    404   \n",
       "\n",
       "   LOT EASE-MENT BUILDING CLASS AT PRESENT                 ADDRESS  ...  \\\n",
       "0    6                                  C2            153 AVENUE B  ...   \n",
       "1   26                                  C7   234 EAST 4TH   STREET  ...   \n",
       "2   39                                  C7   197 EAST 3RD   STREET  ...   \n",
       "3   21                                  C4     154 EAST 7TH STREET  ...   \n",
       "4   55                                  C2  301 EAST 10TH   STREET  ...   \n",
       "\n",
       "  RESIDENTIAL UNITS  COMMERCIAL UNITS  TOTAL UNITS  LAND SQUARE FEET  \\\n",
       "0                 5                 0            5              1633   \n",
       "1                28                 3           31              4616   \n",
       "2                16                 1           17              2212   \n",
       "3                10                 0           10              2272   \n",
       "4                 6                 0            6              2369   \n",
       "\n",
       "   GROSS SQUARE FEET YEAR BUILT TAX CLASS AT TIME OF SALE  \\\n",
       "0               6440       1900                         2   \n",
       "1              18690       1900                         2   \n",
       "2               7803       1900                         2   \n",
       "3               6794       1913                         2   \n",
       "4               4615       1900                         2   \n",
       "\n",
       "   BUILDING CLASS AT TIME OF SALE  SALE PRICE            SALE DATE  \n",
       "0                              C2     6625000  2017-07-19 00:00:00  \n",
       "1                              C7         -    2016-12-14 00:00:00  \n",
       "2                              C7         -    2016-12-09 00:00:00  \n",
       "3                              C4     3936272  2016-09-23 00:00:00  \n",
       "4                              C2     8000000  2016-11-17 00:00:00  \n",
       "\n",
       "[5 rows x 22 columns]"
      ]
     },
     "execution_count": 4,
     "metadata": {},
     "output_type": "execute_result"
    }
   ],
   "source": [
    "df_data.head(5)"
   ]
  },
  {
   "cell_type": "code",
   "execution_count": 5,
   "metadata": {},
   "outputs": [
    {
     "data": {
      "text/plain": [
       "array(['Unnamed: 0', 'BOROUGH', 'NEIGHBORHOOD', 'BUILDING CLASS CATEGORY',\n",
       "       'TAX CLASS AT PRESENT', 'BLOCK', 'LOT', 'EASE-MENT',\n",
       "       'BUILDING CLASS AT PRESENT', 'ADDRESS', 'APARTMENT NUMBER',\n",
       "       'ZIP CODE', 'RESIDENTIAL UNITS', 'COMMERCIAL UNITS', 'TOTAL UNITS',\n",
       "       'LAND SQUARE FEET', 'GROSS SQUARE FEET', 'YEAR BUILT',\n",
       "       'TAX CLASS AT TIME OF SALE', 'BUILDING CLASS AT TIME OF SALE',\n",
       "       'SALE PRICE', 'SALE DATE'], dtype=object)"
      ]
     },
     "execution_count": 5,
     "metadata": {},
     "output_type": "execute_result"
    }
   ],
   "source": [
    "# checking columns of the data\n",
    "df_data.columns.values"
   ]
  },
  {
   "cell_type": "code",
   "execution_count": 6,
   "metadata": {},
   "outputs": [
    {
     "data": {
      "text/plain": [
       "(84548, 22)"
      ]
     },
     "execution_count": 6,
     "metadata": {},
     "output_type": "execute_result"
    }
   ],
   "source": [
    "# checking data shape\n",
    "df_data.shape"
   ]
  },
  {
   "cell_type": "code",
   "execution_count": 7,
   "metadata": {},
   "outputs": [
    {
     "data": {
      "text/html": [
       "<div>\n",
       "<style scoped>\n",
       "    .dataframe tbody tr th:only-of-type {\n",
       "        vertical-align: middle;\n",
       "    }\n",
       "\n",
       "    .dataframe tbody tr th {\n",
       "        vertical-align: top;\n",
       "    }\n",
       "\n",
       "    .dataframe thead th {\n",
       "        text-align: right;\n",
       "    }\n",
       "</style>\n",
       "<table border=\"1\" class=\"dataframe\">\n",
       "  <thead>\n",
       "    <tr style=\"text-align: right;\">\n",
       "      <th></th>\n",
       "      <th>Unnamed: 0</th>\n",
       "      <th>BOROUGH</th>\n",
       "      <th>BLOCK</th>\n",
       "      <th>LOT</th>\n",
       "      <th>ZIP CODE</th>\n",
       "      <th>RESIDENTIAL UNITS</th>\n",
       "      <th>COMMERCIAL UNITS</th>\n",
       "      <th>TOTAL UNITS</th>\n",
       "      <th>YEAR BUILT</th>\n",
       "      <th>TAX CLASS AT TIME OF SALE</th>\n",
       "    </tr>\n",
       "  </thead>\n",
       "  <tbody>\n",
       "    <tr>\n",
       "      <th>count</th>\n",
       "      <td>84548.000000</td>\n",
       "      <td>84548.000000</td>\n",
       "      <td>84548.000000</td>\n",
       "      <td>84548.000000</td>\n",
       "      <td>84548.000000</td>\n",
       "      <td>84548.000000</td>\n",
       "      <td>84548.000000</td>\n",
       "      <td>84548.000000</td>\n",
       "      <td>84548.000000</td>\n",
       "      <td>84548.000000</td>\n",
       "    </tr>\n",
       "    <tr>\n",
       "      <th>mean</th>\n",
       "      <td>10344.359878</td>\n",
       "      <td>2.998758</td>\n",
       "      <td>4237.218976</td>\n",
       "      <td>376.224015</td>\n",
       "      <td>10731.991614</td>\n",
       "      <td>2.025264</td>\n",
       "      <td>0.193559</td>\n",
       "      <td>2.249184</td>\n",
       "      <td>1789.322976</td>\n",
       "      <td>1.657485</td>\n",
       "    </tr>\n",
       "    <tr>\n",
       "      <th>std</th>\n",
       "      <td>7151.779436</td>\n",
       "      <td>1.289790</td>\n",
       "      <td>3568.263407</td>\n",
       "      <td>658.136814</td>\n",
       "      <td>1290.879147</td>\n",
       "      <td>16.721037</td>\n",
       "      <td>8.713183</td>\n",
       "      <td>18.972584</td>\n",
       "      <td>537.344993</td>\n",
       "      <td>0.819341</td>\n",
       "    </tr>\n",
       "    <tr>\n",
       "      <th>min</th>\n",
       "      <td>4.000000</td>\n",
       "      <td>1.000000</td>\n",
       "      <td>1.000000</td>\n",
       "      <td>1.000000</td>\n",
       "      <td>0.000000</td>\n",
       "      <td>0.000000</td>\n",
       "      <td>0.000000</td>\n",
       "      <td>0.000000</td>\n",
       "      <td>0.000000</td>\n",
       "      <td>1.000000</td>\n",
       "    </tr>\n",
       "    <tr>\n",
       "      <th>25%</th>\n",
       "      <td>4231.000000</td>\n",
       "      <td>2.000000</td>\n",
       "      <td>1322.750000</td>\n",
       "      <td>22.000000</td>\n",
       "      <td>10305.000000</td>\n",
       "      <td>0.000000</td>\n",
       "      <td>0.000000</td>\n",
       "      <td>1.000000</td>\n",
       "      <td>1920.000000</td>\n",
       "      <td>1.000000</td>\n",
       "    </tr>\n",
       "    <tr>\n",
       "      <th>50%</th>\n",
       "      <td>8942.000000</td>\n",
       "      <td>3.000000</td>\n",
       "      <td>3311.000000</td>\n",
       "      <td>50.000000</td>\n",
       "      <td>11209.000000</td>\n",
       "      <td>1.000000</td>\n",
       "      <td>0.000000</td>\n",
       "      <td>1.000000</td>\n",
       "      <td>1940.000000</td>\n",
       "      <td>2.000000</td>\n",
       "    </tr>\n",
       "    <tr>\n",
       "      <th>75%</th>\n",
       "      <td>15987.250000</td>\n",
       "      <td>4.000000</td>\n",
       "      <td>6281.000000</td>\n",
       "      <td>1001.000000</td>\n",
       "      <td>11357.000000</td>\n",
       "      <td>2.000000</td>\n",
       "      <td>0.000000</td>\n",
       "      <td>2.000000</td>\n",
       "      <td>1965.000000</td>\n",
       "      <td>2.000000</td>\n",
       "    </tr>\n",
       "    <tr>\n",
       "      <th>max</th>\n",
       "      <td>26739.000000</td>\n",
       "      <td>5.000000</td>\n",
       "      <td>16322.000000</td>\n",
       "      <td>9106.000000</td>\n",
       "      <td>11694.000000</td>\n",
       "      <td>1844.000000</td>\n",
       "      <td>2261.000000</td>\n",
       "      <td>2261.000000</td>\n",
       "      <td>2017.000000</td>\n",
       "      <td>4.000000</td>\n",
       "    </tr>\n",
       "  </tbody>\n",
       "</table>\n",
       "</div>"
      ],
      "text/plain": [
       "         Unnamed: 0       BOROUGH         BLOCK           LOT      ZIP CODE  \\\n",
       "count  84548.000000  84548.000000  84548.000000  84548.000000  84548.000000   \n",
       "mean   10344.359878      2.998758   4237.218976    376.224015  10731.991614   \n",
       "std     7151.779436      1.289790   3568.263407    658.136814   1290.879147   \n",
       "min        4.000000      1.000000      1.000000      1.000000      0.000000   \n",
       "25%     4231.000000      2.000000   1322.750000     22.000000  10305.000000   \n",
       "50%     8942.000000      3.000000   3311.000000     50.000000  11209.000000   \n",
       "75%    15987.250000      4.000000   6281.000000   1001.000000  11357.000000   \n",
       "max    26739.000000      5.000000  16322.000000   9106.000000  11694.000000   \n",
       "\n",
       "       RESIDENTIAL UNITS  COMMERCIAL UNITS   TOTAL UNITS    YEAR BUILT  \\\n",
       "count       84548.000000      84548.000000  84548.000000  84548.000000   \n",
       "mean            2.025264          0.193559      2.249184   1789.322976   \n",
       "std            16.721037          8.713183     18.972584    537.344993   \n",
       "min             0.000000          0.000000      0.000000      0.000000   \n",
       "25%             0.000000          0.000000      1.000000   1920.000000   \n",
       "50%             1.000000          0.000000      1.000000   1940.000000   \n",
       "75%             2.000000          0.000000      2.000000   1965.000000   \n",
       "max          1844.000000       2261.000000   2261.000000   2017.000000   \n",
       "\n",
       "       TAX CLASS AT TIME OF SALE  \n",
       "count               84548.000000  \n",
       "mean                    1.657485  \n",
       "std                     0.819341  \n",
       "min                     1.000000  \n",
       "25%                     1.000000  \n",
       "50%                     2.000000  \n",
       "75%                     2.000000  \n",
       "max                     4.000000  "
      ]
     },
     "execution_count": 7,
     "metadata": {},
     "output_type": "execute_result"
    }
   ],
   "source": [
    "# checking the data\n",
    "df_data.describe()"
   ]
  },
  {
   "cell_type": "code",
   "execution_count": 8,
   "metadata": {},
   "outputs": [
    {
     "data": {
      "text/plain": [
       "Unnamed: 0                        0\n",
       "BOROUGH                           0\n",
       "NEIGHBORHOOD                      0\n",
       "BUILDING CLASS CATEGORY           0\n",
       "TAX CLASS AT PRESENT              0\n",
       "BLOCK                             0\n",
       "LOT                               0\n",
       "EASE-MENT                         0\n",
       "BUILDING CLASS AT PRESENT         0\n",
       "ADDRESS                           0\n",
       "APARTMENT NUMBER                  0\n",
       "ZIP CODE                          0\n",
       "RESIDENTIAL UNITS                 0\n",
       "COMMERCIAL UNITS                  0\n",
       "TOTAL UNITS                       0\n",
       "LAND SQUARE FEET                  0\n",
       "GROSS SQUARE FEET                 0\n",
       "YEAR BUILT                        0\n",
       "TAX CLASS AT TIME OF SALE         0\n",
       "BUILDING CLASS AT TIME OF SALE    0\n",
       "SALE PRICE                        0\n",
       "SALE DATE                         0\n",
       "dtype: int64"
      ]
     },
     "execution_count": 8,
     "metadata": {},
     "output_type": "execute_result"
    }
   ],
   "source": [
    "# checking null data\n",
    "df_data.isnull().sum()"
   ]
  },
  {
   "attachments": {},
   "cell_type": "markdown",
   "metadata": {},
   "source": [
    "#### Data Cleaning"
   ]
  },
  {
   "cell_type": "code",
   "execution_count": 9,
   "metadata": {},
   "outputs": [
    {
     "data": {
      "text/plain": [
       "Unnamed: 0                          0.000000\n",
       "BOROUGH                             0.000000\n",
       "NEIGHBORHOOD                        0.000000\n",
       "BUILDING CLASS CATEGORY             0.000000\n",
       "TAX CLASS AT PRESENT                0.872877\n",
       "BLOCK                               0.000000\n",
       "LOT                                 0.000000\n",
       "EASE-MENT                         100.000000\n",
       "BUILDING CLASS AT PRESENT           0.872877\n",
       "ADDRESS                             0.000000\n",
       "APARTMENT NUMBER                   77.466055\n",
       "ZIP CODE                            0.000000\n",
       "RESIDENTIAL UNITS                   0.000000\n",
       "COMMERCIAL UNITS                    0.000000\n",
       "TOTAL UNITS                         0.000000\n",
       "LAND SQUARE FEET                    0.000000\n",
       "GROSS SQUARE FEET                   0.000000\n",
       "YEAR BUILT                          0.000000\n",
       "TAX CLASS AT TIME OF SALE           0.000000\n",
       "BUILDING CLASS AT TIME OF SALE      0.000000\n",
       "SALE PRICE                          0.000000\n",
       "SALE DATE                           0.000000\n",
       "dtype: float64"
      ]
     },
     "execution_count": 9,
     "metadata": {},
     "output_type": "execute_result"
    }
   ],
   "source": [
    "df_data.replace(' ',np.nan, inplace=True)\n",
    "df_data.isna().sum() /len(df_data) *100"
   ]
  },
  {
   "cell_type": "code",
   "execution_count": 10,
   "metadata": {},
   "outputs": [],
   "source": [
    "df_data.drop([\"EASE-MENT\",\"APARTMENT NUMBER\"], axis=1, inplace=True)"
   ]
  },
  {
   "cell_type": "code",
   "execution_count": 11,
   "metadata": {},
   "outputs": [
    {
     "data": {
      "text/plain": [
       "Unnamed: 0                          0\n",
       "BOROUGH                             0\n",
       "NEIGHBORHOOD                        0\n",
       "BUILDING CLASS CATEGORY             0\n",
       "TAX CLASS AT PRESENT              738\n",
       "BLOCK                               0\n",
       "LOT                                 0\n",
       "BUILDING CLASS AT PRESENT         738\n",
       "ADDRESS                             0\n",
       "ZIP CODE                            0\n",
       "RESIDENTIAL UNITS                   0\n",
       "COMMERCIAL UNITS                    0\n",
       "TOTAL UNITS                         0\n",
       "LAND SQUARE FEET                    0\n",
       "GROSS SQUARE FEET                   0\n",
       "YEAR BUILT                          0\n",
       "TAX CLASS AT TIME OF SALE           0\n",
       "BUILDING CLASS AT TIME OF SALE      0\n",
       "SALE PRICE                          0\n",
       "SALE DATE                           0\n",
       "dtype: int64"
      ]
     },
     "execution_count": 11,
     "metadata": {},
     "output_type": "execute_result"
    }
   ],
   "source": [
    "df_data.isnull().sum()"
   ]
  },
  {
   "cell_type": "code",
   "execution_count": 12,
   "metadata": {},
   "outputs": [],
   "source": [
    "# Mengubah tipe data beberapa kolom\n",
    "df_data['SALE DATE'] = pd.to_datetime(df_data['SALE DATE'], errors='coerce')\n",
    "df_data['SALE PRICE'] = pd.to_numeric(df_data['SALE PRICE'], errors='coerce')\n",
    "df_data['LAND SQUARE FEET'] = pd.to_numeric(df_data['LAND SQUARE FEET'], errors='coerce')\n",
    "df_data['GROSS SQUARE FEET']= pd.to_numeric(df_data['GROSS SQUARE FEET'], errors='coerce')\n",
    "df_data['TAX CLASS AT TIME OF SALE'] = df_data['TAX CLASS AT TIME OF SALE'].astype('category')\n",
    "df_data['TAX CLASS AT PRESENT'] = df_data['TAX CLASS AT PRESENT'].astype('category')"
   ]
  },
  {
   "cell_type": "code",
   "execution_count": 13,
   "metadata": {},
   "outputs": [
    {
     "data": {
      "image/png": "[encoded data removed]",
      "text/plain": [
       "<Figure size 1080x432 with 1 Axes>"
      ]
     },
     "metadata": {},
     "output_type": "display_data"
    }
   ],
   "source": [
    "plt.figure(figsize=(15,6))\n",
    "\n",
    "sns.boxplot(x='SALE PRICE', data=df_data)\n",
    "plt.ticklabel_format(style='plain', axis='x')\n",
    "plt.title('Boxplot of SALE PRICE in USD')\n",
    "plt.show()"
   ]
  },
  {
   "cell_type": "code",
   "execution_count": 14,
   "metadata": {},
   "outputs": [],
   "source": [
    "# Mengambil data SALE PRICE dalam rentang 100000 - 5000000\n",
    "df_data = df_data[(df_data['SALE PRICE'] > 100000) & (df_data['SALE PRICE'] < 5000000)]"
   ]
  },
  {
   "cell_type": "code",
   "execution_count": 15,
   "metadata": {},
   "outputs": [
    {
     "data": {
      "image/png": "[encoded data removed]",
      "text/plain": [
       "<Figure size 1080x432 with 1 Axes>"
      ]
     },
     "metadata": {},
     "output_type": "display_data"
    }
   ],
   "source": [
    "plt.figure(figsize=(15,6))\n",
    "\n",
    "sns.boxplot(x='SALE PRICE', data=df_data)\n",
    "plt.ticklabel_format(style='plain', axis='x')\n",
    "plt.title('Boxplot of SALE PRICE in USD')\n",
    "plt.show()"
   ]
  },
  {
   "cell_type": "code",
   "execution_count": 16,
   "metadata": {},
   "outputs": [],
   "source": [
    "# duplicate dataframe\n",
    "df = df_data.copy()"
   ]
  },
  {
   "cell_type": "code",
   "execution_count": 17,
   "metadata": {},
   "outputs": [
    {
     "data": {
      "text/html": [
       "<div>\n",
       "<style scoped>\n",
       "    .dataframe tbody tr th:only-of-type {\n",
       "        vertical-align: middle;\n",
       "    }\n",
       "\n",
       "    .dataframe tbody tr th {\n",
       "        vertical-align: top;\n",
       "    }\n",
       "\n",
       "    .dataframe thead th {\n",
       "        text-align: right;\n",
       "    }\n",
       "</style>\n",
       "<table border=\"1\" class=\"dataframe\">\n",
       "  <thead>\n",
       "    <tr style=\"text-align: right;\">\n",
       "      <th></th>\n",
       "      <th>Unnamed: 0</th>\n",
       "      <th>BOROUGH</th>\n",
       "      <th>NEIGHBORHOOD</th>\n",
       "      <th>BUILDING CLASS CATEGORY</th>\n",
       "      <th>TAX CLASS AT PRESENT</th>\n",
       "      <th>BLOCK</th>\n",
       "      <th>LOT</th>\n",
       "      <th>BUILDING CLASS AT PRESENT</th>\n",
       "      <th>ADDRESS</th>\n",
       "      <th>ZIP CODE</th>\n",
       "      <th>RESIDENTIAL UNITS</th>\n",
       "      <th>COMMERCIAL UNITS</th>\n",
       "      <th>TOTAL UNITS</th>\n",
       "      <th>LAND SQUARE FEET</th>\n",
       "      <th>GROSS SQUARE FEET</th>\n",
       "      <th>YEAR BUILT</th>\n",
       "      <th>TAX CLASS AT TIME OF SALE</th>\n",
       "      <th>BUILDING CLASS AT TIME OF SALE</th>\n",
       "      <th>SALE PRICE</th>\n",
       "      <th>SALE DATE</th>\n",
       "    </tr>\n",
       "  </thead>\n",
       "  <tbody>\n",
       "    <tr>\n",
       "      <th>3</th>\n",
       "      <td>7</td>\n",
       "      <td>Manhattan</td>\n",
       "      <td>ALPHABET CITY</td>\n",
       "      <td>07 RENTALS - WALKUP APARTMENTS</td>\n",
       "      <td>2B</td>\n",
       "      <td>402</td>\n",
       "      <td>21</td>\n",
       "      <td>C4</td>\n",
       "      <td>154 EAST 7TH STREET</td>\n",
       "      <td>10009</td>\n",
       "      <td>10</td>\n",
       "      <td>0</td>\n",
       "      <td>10</td>\n",
       "      <td>2272.0</td>\n",
       "      <td>6794.0</td>\n",
       "      <td>1913</td>\n",
       "      <td>2</td>\n",
       "      <td>C4</td>\n",
       "      <td>3936272.0</td>\n",
       "      <td>2016-09-23</td>\n",
       "    </tr>\n",
       "    <tr>\n",
       "      <th>6</th>\n",
       "      <td>10</td>\n",
       "      <td>Manhattan</td>\n",
       "      <td>ALPHABET CITY</td>\n",
       "      <td>07 RENTALS - WALKUP APARTMENTS</td>\n",
       "      <td>2B</td>\n",
       "      <td>406</td>\n",
       "      <td>32</td>\n",
       "      <td>C4</td>\n",
       "      <td>210 AVENUE B</td>\n",
       "      <td>10009</td>\n",
       "      <td>8</td>\n",
       "      <td>0</td>\n",
       "      <td>8</td>\n",
       "      <td>1750.0</td>\n",
       "      <td>4226.0</td>\n",
       "      <td>1920</td>\n",
       "      <td>2</td>\n",
       "      <td>C4</td>\n",
       "      <td>3192840.0</td>\n",
       "      <td>2016-09-23</td>\n",
       "    </tr>\n",
       "    <tr>\n",
       "      <th>13</th>\n",
       "      <td>17</td>\n",
       "      <td>Manhattan</td>\n",
       "      <td>ALPHABET CITY</td>\n",
       "      <td>09 COOPS - WALKUP APARTMENTS</td>\n",
       "      <td>2</td>\n",
       "      <td>373</td>\n",
       "      <td>40</td>\n",
       "      <td>C6</td>\n",
       "      <td>327 EAST 3 STREET, 1C</td>\n",
       "      <td>10009</td>\n",
       "      <td>0</td>\n",
       "      <td>0</td>\n",
       "      <td>0</td>\n",
       "      <td>NaN</td>\n",
       "      <td>NaN</td>\n",
       "      <td>1920</td>\n",
       "      <td>2</td>\n",
       "      <td>C6</td>\n",
       "      <td>499000.0</td>\n",
       "      <td>2017-03-10</td>\n",
       "    </tr>\n",
       "    <tr>\n",
       "      <th>15</th>\n",
       "      <td>19</td>\n",
       "      <td>Manhattan</td>\n",
       "      <td>ALPHABET CITY</td>\n",
       "      <td>09 COOPS - WALKUP APARTMENTS</td>\n",
       "      <td>2</td>\n",
       "      <td>373</td>\n",
       "      <td>40</td>\n",
       "      <td>C6</td>\n",
       "      <td>327 EAST 3RD STREET, 5A</td>\n",
       "      <td>10009</td>\n",
       "      <td>0</td>\n",
       "      <td>0</td>\n",
       "      <td>0</td>\n",
       "      <td>NaN</td>\n",
       "      <td>NaN</td>\n",
       "      <td>1920</td>\n",
       "      <td>2</td>\n",
       "      <td>C6</td>\n",
       "      <td>529500.0</td>\n",
       "      <td>2017-06-09</td>\n",
       "    </tr>\n",
       "    <tr>\n",
       "      <th>16</th>\n",
       "      <td>20</td>\n",
       "      <td>Manhattan</td>\n",
       "      <td>ALPHABET CITY</td>\n",
       "      <td>09 COOPS - WALKUP APARTMENTS</td>\n",
       "      <td>2</td>\n",
       "      <td>373</td>\n",
       "      <td>40</td>\n",
       "      <td>C6</td>\n",
       "      <td>327 EAST 3 STREET, 2E</td>\n",
       "      <td>10009</td>\n",
       "      <td>0</td>\n",
       "      <td>0</td>\n",
       "      <td>0</td>\n",
       "      <td>NaN</td>\n",
       "      <td>NaN</td>\n",
       "      <td>1920</td>\n",
       "      <td>2</td>\n",
       "      <td>C6</td>\n",
       "      <td>423000.0</td>\n",
       "      <td>2017-07-14</td>\n",
       "    </tr>\n",
       "  </tbody>\n",
       "</table>\n",
       "</div>"
      ],
      "text/plain": [
       "    Unnamed: 0    BOROUGH   NEIGHBORHOOD  \\\n",
       "3            7  Manhattan  ALPHABET CITY   \n",
       "6           10  Manhattan  ALPHABET CITY   \n",
       "13          17  Manhattan  ALPHABET CITY   \n",
       "15          19  Manhattan  ALPHABET CITY   \n",
       "16          20  Manhattan  ALPHABET CITY   \n",
       "\n",
       "                        BUILDING CLASS CATEGORY TAX CLASS AT PRESENT  BLOCK  \\\n",
       "3   07 RENTALS - WALKUP APARTMENTS                                2B    402   \n",
       "6   07 RENTALS - WALKUP APARTMENTS                                2B    406   \n",
       "13  09 COOPS - WALKUP APARTMENTS                                   2    373   \n",
       "15  09 COOPS - WALKUP APARTMENTS                                   2    373   \n",
       "16  09 COOPS - WALKUP APARTMENTS                                   2    373   \n",
       "\n",
       "    LOT BUILDING CLASS AT PRESENT                  ADDRESS  ZIP CODE  \\\n",
       "3    21                        C4      154 EAST 7TH STREET     10009   \n",
       "6    32                        C4             210 AVENUE B     10009   \n",
       "13   40                        C6    327 EAST 3 STREET, 1C     10009   \n",
       "15   40                        C6  327 EAST 3RD STREET, 5A     10009   \n",
       "16   40                        C6    327 EAST 3 STREET, 2E     10009   \n",
       "\n",
       "    RESIDENTIAL UNITS  COMMERCIAL UNITS  TOTAL UNITS  LAND SQUARE FEET  \\\n",
       "3                  10                 0           10            2272.0   \n",
       "6                   8                 0            8            1750.0   \n",
       "13                  0                 0            0               NaN   \n",
       "15                  0                 0            0               NaN   \n",
       "16                  0                 0            0               NaN   \n",
       "\n",
       "    GROSS SQUARE FEET  YEAR BUILT TAX CLASS AT TIME OF SALE  \\\n",
       "3              6794.0        1913                         2   \n",
       "6              4226.0        1920                         2   \n",
       "13                NaN        1920                         2   \n",
       "15                NaN        1920                         2   \n",
       "16                NaN        1920                         2   \n",
       "\n",
       "   BUILDING CLASS AT TIME OF SALE  SALE PRICE  SALE DATE  \n",
       "3                              C4   3936272.0 2016-09-23  \n",
       "6                              C4   3192840.0 2016-09-23  \n",
       "13                             C6    499000.0 2017-03-10  \n",
       "15                             C6    529500.0 2017-06-09  \n",
       "16                             C6    423000.0 2017-07-14  "
      ]
     },
     "execution_count": 17,
     "metadata": {},
     "output_type": "execute_result"
    }
   ],
   "source": [
    "df['BOROUGH'] = df.BOROUGH.replace({1: \"Manhattan\", 2: \"Bronx\", 3: \"Brooklyn\", 4: \"Queens\", 5: \"Staten Islands\"})\n",
    "df.head()"
   ]
  },
  {
   "cell_type": "code",
   "execution_count": 18,
   "metadata": {},
   "outputs": [
    {
     "data": {
      "text/plain": [
       "['BOROUGH',\n",
       " 'NEIGHBORHOOD',\n",
       " 'BUILDING CLASS CATEGORY',\n",
       " 'BUILDING CLASS AT PRESENT',\n",
       " 'ADDRESS',\n",
       " 'BUILDING CLASS AT TIME OF SALE']"
      ]
     },
     "execution_count": 18,
     "metadata": {},
     "output_type": "execute_result"
    }
   ],
   "source": [
    "# Mencari kolom yang bertipe data object\n",
    "categorical = [var for var in df.columns if df[var].dtype=='O']\n",
    "categorical"
   ]
  },
  {
   "cell_type": "code",
   "execution_count": 19,
   "metadata": {},
   "outputs": [],
   "source": [
    "# Mengambil jumlah Total Units dalam rentang 0-50\n",
    "df = df[(df['TOTAL UNITS'] > 0) & (df['TOTAL UNITS'] < 50)]"
   ]
  },
  {
   "cell_type": "code",
   "execution_count": 20,
   "metadata": {},
   "outputs": [],
   "source": [
    "# Menghapus data yang jika Commercial Units dan Residential Units dijumlahkan tidak sama dengan Total Units\n",
    "df = df[df['TOTAL UNITS'] == df['COMMERCIAL UNITS'] + df['RESIDENTIAL UNITS']]"
   ]
  },
  {
   "cell_type": "code",
   "execution_count": 21,
   "metadata": {},
   "outputs": [],
   "source": [
    "df[[\"TOTAL UNITS\", \"SALE PRICE\"]].groupby(['TOTAL UNITS'], as_index=False).count().sort_values(by='SALE PRICE', ascending=False)\n",
    "df = df[(df['TOTAL UNITS'] > 0) & (df['TOTAL UNITS'] != 2261)] "
   ]
  },
  {
   "cell_type": "code",
   "execution_count": 22,
   "metadata": {},
   "outputs": [
    {
     "name": "stdout",
     "output_type": "stream",
     "text": [
      "<class 'pandas.core.frame.DataFrame'>\n",
      "Int64Index: 38656 entries, 3 to 84545\n",
      "Data columns (total 20 columns):\n",
      " #   Column                          Non-Null Count  Dtype         \n",
      "---  ------                          --------------  -----         \n",
      " 0   Unnamed: 0                      38656 non-null  int64         \n",
      " 1   BOROUGH                         38656 non-null  object        \n",
      " 2   NEIGHBORHOOD                    38656 non-null  object        \n",
      " 3   BUILDING CLASS CATEGORY         38656 non-null  object        \n",
      " 4   TAX CLASS AT PRESENT            38656 non-null  category      \n",
      " 5   BLOCK                           38656 non-null  int64         \n",
      " 6   LOT                             38656 non-null  int64         \n",
      " 7   BUILDING CLASS AT PRESENT       38656 non-null  object        \n",
      " 8   ADDRESS                         38656 non-null  object        \n",
      " 9   ZIP CODE                        38656 non-null  int64         \n",
      " 10  RESIDENTIAL UNITS               38656 non-null  int64         \n",
      " 11  COMMERCIAL UNITS                38656 non-null  int64         \n",
      " 12  TOTAL UNITS                     38656 non-null  int64         \n",
      " 13  LAND SQUARE FEET                30977 non-null  float64       \n",
      " 14  GROSS SQUARE FEET               30840 non-null  float64       \n",
      " 15  YEAR BUILT                      38656 non-null  int64         \n",
      " 16  TAX CLASS AT TIME OF SALE       38656 non-null  category      \n",
      " 17  BUILDING CLASS AT TIME OF SALE  38656 non-null  object        \n",
      " 18  SALE PRICE                      38656 non-null  float64       \n",
      " 19  SALE DATE                       38656 non-null  datetime64[ns]\n",
      "dtypes: category(2), datetime64[ns](1), float64(3), int64(8), object(6)\n",
      "memory usage: 5.7+ MB\n"
     ]
    }
   ],
   "source": [
    "df.info()"
   ]
  },
  {
   "cell_type": "code",
   "execution_count": 23,
   "metadata": {},
   "outputs": [],
   "source": [
    "# delete unnamed column\n",
    "df.drop(df.columns[df.columns.str.contains('unnamed',case = False)],axis = 1, inplace = True)"
   ]
  },
  {
   "cell_type": "code",
   "execution_count": 24,
   "metadata": {},
   "outputs": [
    {
     "data": {
      "text/plain": [
       "(38656, 19)"
      ]
     },
     "execution_count": 24,
     "metadata": {},
     "output_type": "execute_result"
    }
   ],
   "source": [
    "df.shape"
   ]
  },
  {
   "attachments": {},
   "cell_type": "markdown",
   "metadata": {},
   "source": [
    "Setelah dilakukan data cleaning, terdapat pengurangan jumlah data dari 84548 data menjadi 38586 data dengan jumlah kolom sebanyak 19. Data yang telah dibersihkan ini dapat digunakan dibandingkan dengan data sebelumnya yang  masih terdapat data null, missing value, data duplikat, dan lainnya yang jika tidak dilakukan pembersihan terlebih dahulu akan berpengaruh terhadap tingkat keakuratan data."
   ]
  },
  {
   "attachments": {},
   "cell_type": "markdown",
   "metadata": {},
   "source": [
    "#### Measure of Cntral Tendency"
   ]
  },
  {
   "attachments": {},
   "cell_type": "markdown",
   "metadata": {},
   "source": [
    "##### Mean"
   ]
  },
  {
   "cell_type": "code",
   "execution_count": 25,
   "metadata": {},
   "outputs": [
    {
     "name": "stdout",
     "output_type": "stream",
     "text": [
      "Mean of Sale Price :  930737.933723096\n",
      "Mean of Land Square Feet :  nan\n",
      "Mean of Gross Square Feet :  nan\n"
     ]
    }
   ],
   "source": [
    "mean_saleprice = statistics.mean(df['SALE PRICE'])\n",
    "mean_lsf = statistics.mean(df['LAND SQUARE FEET'])\n",
    "mean_gsf = statistics.mean(df['GROSS SQUARE FEET'])\n",
    "print(\"Mean of Sale Price : \",mean_saleprice)\n",
    "print(\"Mean of Land Square Feet : \",mean_lsf)\n",
    "print(\"Mean of Gross Square Feet : \",mean_gsf)"
   ]
  },
  {
   "attachments": {},
   "cell_type": "markdown",
   "metadata": {},
   "source": [
    "##### Median"
   ]
  },
  {
   "cell_type": "code",
   "execution_count": 26,
   "metadata": {},
   "outputs": [
    {
     "name": "stdout",
     "output_type": "stream",
     "text": [
      "Median of Sale Price :  686350.0\n",
      "Median of Land Square Feet :  3226.5\n",
      "Median of Gross Square Feet :  3675.0\n"
     ]
    }
   ],
   "source": [
    "median_saleprice = statistics.median(df['SALE PRICE'])\n",
    "median_lsf = statistics.median(df['LAND SQUARE FEET'])\n",
    "median_gsf = statistics.median(df['GROSS SQUARE FEET'])\n",
    "print(\"Median of Sale Price : \",median_saleprice)\n",
    "print(\"Median of Land Square Feet : \",median_lsf)\n",
    "print(\"Median of Gross Square Feet : \",median_gsf)"
   ]
  },
  {
   "attachments": {},
   "cell_type": "markdown",
   "metadata": {},
   "source": [
    "##### Mode"
   ]
  },
  {
   "cell_type": "code",
   "execution_count": 27,
   "metadata": {},
   "outputs": [
    {
     "name": "stdout",
     "output_type": "stream",
     "text": [
      "Mode Borough                         : Queens\n",
      "Mode Neighborhood                    : FLUSHING-NORTH\n",
      "Mode Tax Class at Present            : 1\n",
      "Mode Building Class Category         : 01 ONE FAMILY DWELLINGS                    \n"
     ]
    }
   ],
   "source": [
    "mode_borough            = statistics.mode(df['BOROUGH'])\n",
    "mode_Neighborhood       = statistics.mode(df['NEIGHBORHOOD'])\n",
    "mode_TaxClassAtPresent = statistics.mode(df['TAX CLASS AT PRESENT'])\n",
    "mode_BuildClassCategory       = statistics.mode(df['BUILDING CLASS CATEGORY'])\n",
    "print(\"Mode Borough                         :\" , mode_borough)\n",
    "print(\"Mode Neighborhood                    :\" , mode_Neighborhood)\n",
    "print(\"Mode Tax Class at Present            :\" , mode_TaxClassAtPresent )\n",
    "print(\"Mode Building Class Category         :\" , mode_BuildClassCategory )"
   ]
  },
  {
   "attachments": {},
   "cell_type": "markdown",
   "metadata": {},
   "source": [
    "#### Measure of Spread"
   ]
  },
  {
   "attachments": {},
   "cell_type": "markdown",
   "metadata": {},
   "source": [
    "##### Range"
   ]
  },
  {
   "cell_type": "code",
   "execution_count": 28,
   "metadata": {},
   "outputs": [
    {
     "name": "stdout",
     "output_type": "stream",
     "text": [
      "Range of Sale Price :  4896141.0\n",
      "Range of Land Square Feet :  nan\n",
      "Range of Gross Square Feet :  nan\n"
     ]
    }
   ],
   "source": [
    "range_saleprice = np.ptp(df['SALE PRICE'])\n",
    "range_lsf = np.ptp(df['LAND SQUARE FEET'])\n",
    "range_gsf = np.ptp(df['GROSS SQUARE FEET'])\n",
    "print(\"Range of Sale Price : \",range_saleprice)\n",
    "print(\"Range of Land Square Feet : \",range_lsf)\n",
    "print(\"Range of Gross Square Feet : \",range_gsf)"
   ]
  },
  {
   "attachments": {},
   "cell_type": "markdown",
   "metadata": {},
   "source": [
    "##### Variance"
   ]
  },
  {
   "cell_type": "code",
   "execution_count": 29,
   "metadata": {},
   "outputs": [
    {
     "name": "stdout",
     "output_type": "stream",
     "text": [
      "Variance of Sale Price :  609378435300.8617\n",
      "Variance of Land Square Feet :  nan\n",
      "Variance of Gross Square Feet :  nan\n"
     ]
    }
   ],
   "source": [
    "var_saleprice = statistics.variance(df['SALE PRICE'])\n",
    "var_lsf = statistics.variance(df['LAND SQUARE FEET'])\n",
    "var_gsf = statistics.variance(df['GROSS SQUARE FEET'])\n",
    "print(\"Variance of Sale Price : \",var_saleprice)\n",
    "print(\"Variance of Land Square Feet : \",var_lsf)\n",
    "print(\"Variance of Gross Square Feet : \",var_gsf)"
   ]
  },
  {
   "attachments": {},
   "cell_type": "markdown",
   "metadata": {},
   "source": [
    "##### Standard Deviation"
   ]
  },
  {
   "cell_type": "code",
   "execution_count": 30,
   "metadata": {},
   "outputs": [
    {
     "name": "stdout",
     "output_type": "stream",
     "text": [
      "Standard Deviation of Sale Price :  780626.9501502377\n",
      "Standard Deviation of Land Square Feet :  nan\n",
      "Standard Deviation of Gross Square Feet :  nan\n"
     ]
    }
   ],
   "source": [
    "std_saleprice = statistics.stdev(df['SALE PRICE'])\n",
    "std_lsf = statistics.stdev(df['LAND SQUARE FEET'])\n",
    "std_gsf = statistics.stdev(df['GROSS SQUARE FEET'])\n",
    "print(\"Standard Deviation of Sale Price : \",std_saleprice)\n",
    "print(\"Standard Deviation of Land Square Feet : \",std_lsf)\n",
    "print(\"Standard Deviation of Gross Square Feet : \",std_gsf)"
   ]
  },
  {
   "attachments": {},
   "cell_type": "markdown",
   "metadata": {},
   "source": [
    "##### Probability Distribution"
   ]
  },
  {
   "cell_type": "code",
   "execution_count": 31,
   "metadata": {},
   "outputs": [
    {
     "data": {
      "image/png": "[encoded data removed]",
      "text/plain": [
       "<Figure size 360x360 with 1 Axes>"
      ]
     },
     "metadata": {},
     "output_type": "display_data"
    }
   ],
   "source": [
    "bronx_dist = df[df['BOROUGH'] == 'Bronx']['SALE PRICE']\n",
    "\n",
    "ax = sns.displot(bronx_dist,\n",
    "                  kde=True)"
   ]
  },
  {
   "attachments": {},
   "cell_type": "markdown",
   "metadata": {},
   "source": [
    "data sudah berdistribusi normal"
   ]
  },
  {
   "attachments": {},
   "cell_type": "markdown",
   "metadata": {},
   "source": [
    "#### Confidence Intervals"
   ]
  },
  {
   "cell_type": "code",
   "execution_count": 36,
   "metadata": {},
   "outputs": [
    {
     "data": {
      "text/html": [
       "<div>\n",
       "<style scoped>\n",
       "    .dataframe tbody tr th:only-of-type {\n",
       "        vertical-align: middle;\n",
       "    }\n",
       "\n",
       "    .dataframe tbody tr th {\n",
       "        vertical-align: top;\n",
       "    }\n",
       "\n",
       "    .dataframe thead tr th {\n",
       "        text-align: left;\n",
       "    }\n",
       "\n",
       "    .dataframe thead tr:last-of-type th {\n",
       "        text-align: right;\n",
       "    }\n",
       "</style>\n",
       "<table border=\"1\" class=\"dataframe\">\n",
       "  <thead>\n",
       "    <tr>\n",
       "      <th></th>\n",
       "      <th colspan=\"3\" halign=\"left\">SALE PRICE</th>\n",
       "    </tr>\n",
       "    <tr>\n",
       "      <th></th>\n",
       "      <th>mean</th>\n",
       "      <th>std</th>\n",
       "      <th>size</th>\n",
       "    </tr>\n",
       "    <tr>\n",
       "      <th>BOROUGH</th>\n",
       "      <th></th>\n",
       "      <th></th>\n",
       "      <th></th>\n",
       "    </tr>\n",
       "  </thead>\n",
       "  <tbody>\n",
       "    <tr>\n",
       "      <th>Bronx</th>\n",
       "      <td>5.703832e+05</td>\n",
       "      <td>5.630354e+05</td>\n",
       "      <td>3622.0</td>\n",
       "    </tr>\n",
       "    <tr>\n",
       "      <th>Brooklyn</th>\n",
       "      <td>1.089782e+06</td>\n",
       "      <td>7.780304e+05</td>\n",
       "      <td>11607.0</td>\n",
       "    </tr>\n",
       "    <tr>\n",
       "      <th>Manhattan</th>\n",
       "      <td>1.774131e+06</td>\n",
       "      <td>1.102220e+06</td>\n",
       "      <td>5318.0</td>\n",
       "    </tr>\n",
       "    <tr>\n",
       "      <th>Queens</th>\n",
       "      <td>7.140712e+05</td>\n",
       "      <td>4.392784e+05</td>\n",
       "      <td>12617.0</td>\n",
       "    </tr>\n",
       "    <tr>\n",
       "      <th>Staten Islands</th>\n",
       "      <td>5.133496e+05</td>\n",
       "      <td>2.673147e+05</td>\n",
       "      <td>5492.0</td>\n",
       "    </tr>\n",
       "  </tbody>\n",
       "</table>\n",
       "</div>"
      ],
      "text/plain": [
       "                  SALE PRICE                       \n",
       "                        mean           std     size\n",
       "BOROUGH                                            \n",
       "Bronx           5.703832e+05  5.630354e+05   3622.0\n",
       "Brooklyn        1.089782e+06  7.780304e+05  11607.0\n",
       "Manhattan       1.774131e+06  1.102220e+06   5318.0\n",
       "Queens          7.140712e+05  4.392784e+05  12617.0\n",
       "Staten Islands  5.133496e+05  2.673147e+05   5492.0"
      ]
     },
     "execution_count": 36,
     "metadata": {},
     "output_type": "execute_result"
    }
   ],
   "source": [
    "df.groupby(\"BOROUGH\").agg({\"SALE PRICE\": [np.mean, np.std, np.size]})"
   ]
  },
  {
   "attachments": {},
   "cell_type": "markdown",
   "metadata": {},
   "source": [
    "Mengambil parameter yang diperlukan hanya untuk wilayah Bronx dan menghitung standard error serta lower class boundary dan upper boundary class dengan confidence level 95% (z = 1.96)"
   ]
  },
  {
   "cell_type": "code",
   "execution_count": 41,
   "metadata": {},
   "outputs": [],
   "source": [
    "mean_bronx = 1090322\n",
    "sd = 778349.2\n",
    "n = 3619\n",
    "z = 1.96"
   ]
  },
  {
   "cell_type": "code",
   "execution_count": 42,
   "metadata": {},
   "outputs": [],
   "source": [
    "se = sd / np.sqrt(n)"
   ]
  },
  {
   "cell_type": "code",
   "execution_count": 43,
   "metadata": {},
   "outputs": [
    {
     "name": "stdout",
     "output_type": "stream",
     "text": [
      "The lower class boundary is 1064962.758289242\n",
      "The upper class boundary is 1115681.241710758\n"
     ]
    }
   ],
   "source": [
    "lcb = mean_bronx - z * se\n",
    "ucb = mean_bronx + z * se\n",
    "print(\"The lower class boundary is\", lcb)\n",
    "print(\"The upper class boundary is\", ucb)"
   ]
  },
  {
   "attachments": {},
   "cell_type": "markdown",
   "metadata": {},
   "source": [
    "Hal ini berarti bahwa true mean untuk harga jual pada wilayah Bronx akan berada diantara 106496.758 dan 1115681.242"
   ]
  },
  {
   "attachments": {},
   "cell_type": "markdown",
   "metadata": {},
   "source": [
    "#### Hypothesis Testing"
   ]
  },
  {
   "attachments": {},
   "cell_type": "markdown",
   "metadata": {},
   "source": [
    "Apakah terdapat perbedaan unit terjual diantara properti yang dibangun pada tahun 2000-2007 dan tahun 2007 ke atas?\n",
    "\n",
    "Significance level (alpha) : 5% (0.05)\n",
    "\n",
    "Hipotesis :\n",
    "\n",
    "H0 (Null Hypothesis) : μ1 = μ2 (tidak terdapat perbedaan unit terjual diantara properti yang dibangun pada tahun 2000-2007 dan tahun 2007 ke atas)\n",
    "\n",
    "H1 (Alternative Hypothesis) : μ1 ≠ μ2 (terdapat perbedaan unit terjual diantara properti yang dibangun pada tahun 2000-2007 dan tahun 2007 ke atas)"
   ]
  },
  {
   "cell_type": "code",
   "execution_count": 44,
   "metadata": {},
   "outputs": [
    {
     "data": {
      "text/html": [
       "<div>\n",
       "<style scoped>\n",
       "    .dataframe tbody tr th:only-of-type {\n",
       "        vertical-align: middle;\n",
       "    }\n",
       "\n",
       "    .dataframe tbody tr th {\n",
       "        vertical-align: top;\n",
       "    }\n",
       "\n",
       "    .dataframe thead th {\n",
       "        text-align: right;\n",
       "    }\n",
       "</style>\n",
       "<table border=\"1\" class=\"dataframe\">\n",
       "  <thead>\n",
       "    <tr style=\"text-align: right;\">\n",
       "      <th></th>\n",
       "      <th>RESIDENTIAL UNITS</th>\n",
       "      <th>YEAR BUILT</th>\n",
       "    </tr>\n",
       "  </thead>\n",
       "  <tbody>\n",
       "    <tr>\n",
       "      <th>3</th>\n",
       "      <td>10</td>\n",
       "      <td>1913</td>\n",
       "    </tr>\n",
       "    <tr>\n",
       "      <th>6</th>\n",
       "      <td>8</td>\n",
       "      <td>1920</td>\n",
       "    </tr>\n",
       "    <tr>\n",
       "      <th>76</th>\n",
       "      <td>1</td>\n",
       "      <td>0</td>\n",
       "    </tr>\n",
       "    <tr>\n",
       "      <th>79</th>\n",
       "      <td>1</td>\n",
       "      <td>1920</td>\n",
       "    </tr>\n",
       "    <tr>\n",
       "      <th>80</th>\n",
       "      <td>1</td>\n",
       "      <td>1920</td>\n",
       "    </tr>\n",
       "  </tbody>\n",
       "</table>\n",
       "</div>"
      ],
      "text/plain": [
       "    RESIDENTIAL UNITS  YEAR BUILT\n",
       "3                  10        1913\n",
       "6                   8        1920\n",
       "76                  1           0\n",
       "79                  1        1920\n",
       "80                  1        1920"
      ]
     },
     "execution_count": 44,
     "metadata": {},
     "output_type": "execute_result"
    }
   ],
   "source": [
    "dx = df[['RESIDENTIAL UNITS','YEAR BUILT']]\n",
    "dx.head()"
   ]
  },
  {
   "cell_type": "code",
   "execution_count": 45,
   "metadata": {},
   "outputs": [
    {
     "name": "stderr",
     "output_type": "stream",
     "text": [
      "C:\\Users\\DELL\\AppData\\Local\\Temp/ipykernel_1796/482169146.py:1: SettingWithCopyWarning: \n",
      "A value is trying to be set on a copy of a slice from a DataFrame.\n",
      "Try using .loc[row_indexer,col_indexer] = value instead\n",
      "\n",
      "See the caveats in the documentation: https://pandas.pydata.org/pandas-docs/stable/user_guide/indexing.html#returning-a-view-versus-a-copy\n",
      "  dx[\"YEAR BUILT\"] = df[\"YEAR BUILT\"].astype(\"int\")\n"
     ]
    },
    {
     "data": {
      "text/html": [
       "<div>\n",
       "<style scoped>\n",
       "    .dataframe tbody tr th:only-of-type {\n",
       "        vertical-align: middle;\n",
       "    }\n",
       "\n",
       "    .dataframe tbody tr th {\n",
       "        vertical-align: top;\n",
       "    }\n",
       "\n",
       "    .dataframe thead th {\n",
       "        text-align: right;\n",
       "    }\n",
       "</style>\n",
       "<table border=\"1\" class=\"dataframe\">\n",
       "  <thead>\n",
       "    <tr style=\"text-align: right;\">\n",
       "      <th></th>\n",
       "      <th>RESIDENTIAL UNITS</th>\n",
       "      <th>YEAR BUILT</th>\n",
       "    </tr>\n",
       "  </thead>\n",
       "  <tbody>\n",
       "    <tr>\n",
       "      <th>116</th>\n",
       "      <td>1</td>\n",
       "      <td>2005</td>\n",
       "    </tr>\n",
       "    <tr>\n",
       "      <th>122</th>\n",
       "      <td>1</td>\n",
       "      <td>2005</td>\n",
       "    </tr>\n",
       "    <tr>\n",
       "      <th>176</th>\n",
       "      <td>1</td>\n",
       "      <td>2003</td>\n",
       "    </tr>\n",
       "    <tr>\n",
       "      <th>177</th>\n",
       "      <td>1</td>\n",
       "      <td>2003</td>\n",
       "    </tr>\n",
       "    <tr>\n",
       "      <th>178</th>\n",
       "      <td>1</td>\n",
       "      <td>2003</td>\n",
       "    </tr>\n",
       "  </tbody>\n",
       "</table>\n",
       "</div>"
      ],
      "text/plain": [
       "     RESIDENTIAL UNITS  YEAR BUILT\n",
       "116                  1        2005\n",
       "122                  1        2005\n",
       "176                  1        2003\n",
       "177                  1        2003\n",
       "178                  1        2003"
      ]
     },
     "execution_count": 45,
     "metadata": {},
     "output_type": "execute_result"
    }
   ],
   "source": [
    "dx[\"YEAR BUILT\"] = df[\"YEAR BUILT\"].astype(\"int\")\n",
    "dx1 = dx[\n",
    "    (dx['YEAR BUILT'] > 2000) &\n",
    "    (dx['YEAR BUILT'] < 2007)]\n",
    "dx1.head()"
   ]
  },
  {
   "cell_type": "code",
   "execution_count": 46,
   "metadata": {},
   "outputs": [
    {
     "data": {
      "text/html": [
       "<div>\n",
       "<style scoped>\n",
       "    .dataframe tbody tr th:only-of-type {\n",
       "        vertical-align: middle;\n",
       "    }\n",
       "\n",
       "    .dataframe tbody tr th {\n",
       "        vertical-align: top;\n",
       "    }\n",
       "\n",
       "    .dataframe thead th {\n",
       "        text-align: right;\n",
       "    }\n",
       "</style>\n",
       "<table border=\"1\" class=\"dataframe\">\n",
       "  <thead>\n",
       "    <tr style=\"text-align: right;\">\n",
       "      <th></th>\n",
       "      <th>RESIDENTIAL UNITS</th>\n",
       "      <th>YEAR BUILT</th>\n",
       "    </tr>\n",
       "  </thead>\n",
       "  <tbody>\n",
       "    <tr>\n",
       "      <th>95</th>\n",
       "      <td>1</td>\n",
       "      <td>2014</td>\n",
       "    </tr>\n",
       "    <tr>\n",
       "      <th>100</th>\n",
       "      <td>1</td>\n",
       "      <td>2014</td>\n",
       "    </tr>\n",
       "    <tr>\n",
       "      <th>104</th>\n",
       "      <td>1</td>\n",
       "      <td>2014</td>\n",
       "    </tr>\n",
       "    <tr>\n",
       "      <th>112</th>\n",
       "      <td>1</td>\n",
       "      <td>2014</td>\n",
       "    </tr>\n",
       "    <tr>\n",
       "      <th>129</th>\n",
       "      <td>1</td>\n",
       "      <td>2008</td>\n",
       "    </tr>\n",
       "  </tbody>\n",
       "</table>\n",
       "</div>"
      ],
      "text/plain": [
       "     RESIDENTIAL UNITS  YEAR BUILT\n",
       "95                   1        2014\n",
       "100                  1        2014\n",
       "104                  1        2014\n",
       "112                  1        2014\n",
       "129                  1        2008"
      ]
     },
     "execution_count": 46,
     "metadata": {},
     "output_type": "execute_result"
    }
   ],
   "source": [
    "dx2 = dx[(dx['YEAR BUILT'] > 2007)]\n",
    "dx2.head()"
   ]
  },
  {
   "cell_type": "code",
   "execution_count": 47,
   "metadata": {},
   "outputs": [],
   "source": [
    "import statsmodels.api as sm"
   ]
  },
  {
   "cell_type": "code",
   "execution_count": 48,
   "metadata": {},
   "outputs": [
    {
     "data": {
      "text/plain": [
       "(12.505506536185374, 6.965440368844201e-36)"
      ]
     },
     "execution_count": 48,
     "metadata": {},
     "output_type": "execute_result"
    }
   ],
   "source": [
    "# Menentukan mean dan standar deviasi dari Bronx\n",
    "n1 = len(dx1)\n",
    "mu1 = dx1['RESIDENTIAL UNITS'].mean()\n",
    "sd1 = dx1['RESIDENTIAL UNITS'].std()\n",
    "\n",
    "# Menentukan mean dan standar deviasi dari Staten Islands\n",
    "n2 = len(dx2)\n",
    "mu2 = dx2['RESIDENTIAL UNITS'].mean()\n",
    "sd2 = dx2['RESIDENTIAL UNITS'].std()\n",
    "\n",
    "sm.stats.ztest(dx1['RESIDENTIAL UNITS'], dx2['RESIDENTIAL UNITS'], alternative='two-sided')"
   ]
  },
  {
   "attachments": {},
   "cell_type": "markdown",
   "metadata": {},
   "source": [
    "Karena p-value (2.67e-36) sangat kecil, maka dapat menolak Null Hypothesis bahwa tidak terdapat perbedaan unit terjual diantara properti yang dibangun pada tahun 2000-2007 dengan properti yang dibangun pada tahun 2007 ke atas."
   ]
  },
  {
   "attachments": {},
   "cell_type": "markdown",
   "metadata": {},
   "source": [
    "#### Conclusion"
   ]
  },
  {
   "attachments": {},
   "cell_type": "markdown",
   "metadata": {},
   "source": [
    "- Setelah dilakukan data cleaning, terdapat pengurangan jumlah data dari 84548 data menjadi 38586 data dengan jumlah kolom sebanyak 19. Data yang telah dibersihkan ini dapat digunakan dibandingkan dengan data sebelumnya yang kemungkinan masih terdapat data null, missing value, data duplikat, dan lainnya.\n",
    "- Distribusi probabilitas untuk Sale Price pada wilayah Bronx adalah distribusi normal.\n",
    "- Didapatkan Confidence Interval untuk rata-rata Sale Price di wilayah Bronx berada diantara 106496.758 dan 1115681.242.\n",
    "- Dilakukan pengujian hipotesis untuk menentukan apakah terdapat perbedaan unit terjual diantara properti yang dibangun pada tahun 2000-2007 dan tahun 2007 ke atas. Dari hasil pengujian hipotesis dengan tingkat signifikansi 5%, didapatkan bahwa terdapat perbedaan unit terjual diantara properti yang dibangun pada tahun 2000-2007 dengan properti yang dibangun pada tahun 2007 ke atas."
   ]
  }
 ],
 "metadata": {
  "kernelspec": {
   "display_name": "Python 3",
   "language": "python",
   "name": "python3"
  },
  "language_info": {
   "codemirror_mode": {
    "name": "ipython",
    "version": 3
   },
   "file_extension": ".py",
   "mimetype": "text/x-python",
   "name": "python",
   "nbconvert_exporter": "python",
   "pygments_lexer": "ipython3",
   "version": "3.9.0"
  },
  "orig_nbformat": 4,
  "vscode": {
   "interpreter": {
    "hash": "5addf786bcd861d1ce5006f23111f8cbb206731e5b61b0a5632ba9e0252558a8"
   }
  }
 },
 "nbformat": 4,
 "nbformat_minor": 2
}
